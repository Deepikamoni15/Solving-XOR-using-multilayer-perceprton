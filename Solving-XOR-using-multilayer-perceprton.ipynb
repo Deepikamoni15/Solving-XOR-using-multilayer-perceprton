{
 "cells": [
  {
   "cell_type": "code",
   "execution_count": 1,
   "id": "a3d2db28-94d8-4fce-be75-488d6db6cc70",
   "metadata": {},
   "outputs": [
    {
     "name": "stderr",
     "output_type": "stream",
     "text": [
      "C:\\Users\\M\\anaconda3\\Lib\\site-packages\\keras\\src\\layers\\core\\dense.py:87: UserWarning: Do not pass an `input_shape`/`input_dim` argument to a layer. When using Sequential models, prefer using an `Input(shape)` object as the first layer in the model instead.\n",
      "  super().__init__(activity_regularizer=activity_regularizer, **kwargs)\n"
     ]
    },
    {
     "name": "stdout",
     "output_type": "stream",
     "text": [
      "Predictions for XOR inputs:\n",
      "\u001b[1m1/1\u001b[0m \u001b[32m━━━━━━━━━━━━━━━━━━━━\u001b[0m\u001b[37m\u001b[0m \u001b[1m0s\u001b[0m 50ms/step\n",
      "[[0.]\n",
      " [1.]\n",
      " [1.]\n",
      " [0.]]\n"
     ]
    }
   ],
   "source": [
    "import numpy as np\n",
    "from tensorflow.keras.models import Sequential\n",
    "from tensorflow.keras.layers import Dense\n",
    "\n",
    "# Step 1: Prepare the data\n",
    "# XOR inputs and outputs\n",
    "X = np.array([[0,0], [0,1], [1,0], [1,1]])\n",
    "y = np.array([[0], [1], [1], [0]])\n",
    "\n",
    "# Step 2: Build the model\n",
    "model = Sequential()\n",
    "model.add(Dense(4, input_dim=2, activation='sigmoid'))  # Hidden layer with 4 neurons\n",
    "model.add(Dense(1, activation='sigmoid'))               # Output layer\n",
    "\n",
    "# Step 3: Compile the model\n",
    "model.compile(loss='binary_crossentropy', optimizer='adam', metrics=['accuracy'])\n",
    "\n",
    "# Step 4: Train the model\n",
    "model.fit(X, y, epochs=10000, verbose=0)\n",
    "\n",
    "# Step 5: Test the model\n",
    "print(\"Predictions for XOR inputs:\")\n",
    "predictions = model.predict(X)\n",
    "print(np.round(predictions))  # Rounds predictions to 0 or 1"
   ]
  },
  {
   "cell_type": "code",
   "execution_count": null,
   "id": "81188aaf-0c57-494e-bf50-b22f3ceb5add",
   "metadata": {},
   "outputs": [],
   "source": []
  }
 ],
 "metadata": {
  "kernelspec": {
   "display_name": "Python 3 (ipykernel)",
   "language": "python",
   "name": "python3"
  },
  "language_info": {
   "codemirror_mode": {
    "name": "ipython",
    "version": 3
   },
   "file_extension": ".py",
   "mimetype": "text/x-python",
   "name": "python",
   "nbconvert_exporter": "python",
   "pygments_lexer": "ipython3",
   "version": "3.12.3"
  }
 },
 "nbformat": 4,
 "nbformat_minor": 5
}
